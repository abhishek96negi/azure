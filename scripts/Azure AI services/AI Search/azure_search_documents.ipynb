{
 "cells": [
  {
   "cell_type": "code",
   "execution_count": 1,
   "id": "a24d7b18-b404-4229-b342-4f38b99f96c9",
   "metadata": {
    "scrolled": true
   },
   "outputs": [
    {
     "name": "stdout",
     "output_type": "stream",
     "text": [
      "Requirement already satisfied: azure-search-documents in /Users/abhisheknegi/opt/anaconda3/envs/test/lib/python3.12/site-packages (11.3.0)\n",
      "Requirement already satisfied: azure-core<2.0.0,>=1.19.0 in /Users/abhisheknegi/opt/anaconda3/envs/test/lib/python3.12/site-packages (from azure-search-documents) (1.29.5)\n",
      "Requirement already satisfied: msrest>=0.6.21 in /Users/abhisheknegi/opt/anaconda3/envs/test/lib/python3.12/site-packages (from azure-search-documents) (0.7.1)\n",
      "Requirement already satisfied: azure-common~=1.1 in /Users/abhisheknegi/opt/anaconda3/envs/test/lib/python3.12/site-packages (from azure-search-documents) (1.1.28)\n",
      "Requirement already satisfied: typing-extensions>=3.7.4.3 in /Users/abhisheknegi/opt/anaconda3/envs/test/lib/python3.12/site-packages (from azure-search-documents) (4.8.0)\n",
      "Requirement already satisfied: requests>=2.18.4 in /Users/abhisheknegi/opt/anaconda3/envs/test/lib/python3.12/site-packages (from azure-core<2.0.0,>=1.19.0->azure-search-documents) (2.31.0)\n",
      "Requirement already satisfied: six>=1.11.0 in /Users/abhisheknegi/opt/anaconda3/envs/test/lib/python3.12/site-packages (from azure-core<2.0.0,>=1.19.0->azure-search-documents) (1.16.0)\n",
      "Requirement already satisfied: certifi>=2017.4.17 in /Users/abhisheknegi/opt/anaconda3/envs/test/lib/python3.12/site-packages (from msrest>=0.6.21->azure-search-documents) (2023.11.17)\n",
      "Requirement already satisfied: isodate>=0.6.0 in /Users/abhisheknegi/opt/anaconda3/envs/test/lib/python3.12/site-packages (from msrest>=0.6.21->azure-search-documents) (0.6.1)\n",
      "Requirement already satisfied: requests-oauthlib>=0.5.0 in /Users/abhisheknegi/opt/anaconda3/envs/test/lib/python3.12/site-packages (from msrest>=0.6.21->azure-search-documents) (1.3.1)\n",
      "Requirement already satisfied: charset-normalizer<4,>=2 in /Users/abhisheknegi/opt/anaconda3/envs/test/lib/python3.12/site-packages (from requests>=2.18.4->azure-core<2.0.0,>=1.19.0->azure-search-documents) (3.3.2)\n",
      "Requirement already satisfied: idna<4,>=2.5 in /Users/abhisheknegi/opt/anaconda3/envs/test/lib/python3.12/site-packages (from requests>=2.18.4->azure-core<2.0.0,>=1.19.0->azure-search-documents) (3.6)\n",
      "Requirement already satisfied: urllib3<3,>=1.21.1 in /Users/abhisheknegi/opt/anaconda3/envs/test/lib/python3.12/site-packages (from requests>=2.18.4->azure-core<2.0.0,>=1.19.0->azure-search-documents) (2.1.0)\n",
      "Requirement already satisfied: oauthlib>=3.0.0 in /Users/abhisheknegi/opt/anaconda3/envs/test/lib/python3.12/site-packages (from requests-oauthlib>=0.5.0->msrest>=0.6.21->azure-search-documents) (3.2.2)\n"
     ]
    }
   ],
   "source": [
    "!pip install azure-search-documents"
   ]
  },
  {
   "cell_type": "code",
   "execution_count": null,
   "id": "afc6f705-e311-449d-8aa7-44ab936c1953",
   "metadata": {},
   "outputs": [],
   "source": [
    "from azure.core.credentials import AzureKeyCredential\n",
    "from azure.search.documents import SearchClient\n",
    "from datetime import datetime\n",
    "import json\n",
    "import os"
   ]
  },
  {
   "cell_type": "code",
   "execution_count": 3,
   "id": "392afae9-3d0a-4a0a-b20c-889d3b06a4ce",
   "metadata": {},
   "outputs": [],
   "source": [
    "# Get the service endpoint and API key from the environment\n",
    "\n",
    "class AzureCognitiveSearch:\n",
    "    def __init__(self):\n",
    "        self.api_key = \"<API-KEY>\"\n",
    "        self.index_name = \"<INDEX-NAME>\"\n",
    "        self.endpoint = \"<ENDPOINT>\"\n",
    "        credential = AzureKeyCredential(self.api_key)\n",
    "        self.search_client = SearchClient(\n",
    "            endpoint=self.endpoint,\n",
    "            index_name=self.index_name,\n",
    "            credential=credential\n",
    "        )\n",
    "                                          \n",
    "\n",
    "    def search_by_query(self, key, value):\n",
    "\n",
    "        search_filter = f\"{key} eq '{value}'\"\n",
    "\n",
    "        results = self.search_client.search(search_text=\"\", filter=search_filter, top=1)\n",
    "        \n",
    "        if results:\n",
    "            for result in results:\n",
    "                return result\n",
    "            \n",
    "    def delete_by_id(self, identifier):\n",
    "\n",
    "        try:\n",
    "            # Create a list of dictionaries representing the documents to delete\n",
    "            documents_to_delete = [{\"@search.action\": \"delete\", \"id\": identifier}]\n",
    "\n",
    "            # Delete the document by providing a list of documents\n",
    "            self.search_client.upload_documents(documents=documents_to_delete)\n",
    "            return True\n",
    "        except Exception as e:\n",
    "            print(f'Error deleting document: {str(e)}')\n",
    "            return None\n",
    "\n",
    "    def insert_document(self, document):\n",
    "        try:\n",
    "            self.search_client.upload_documents(documents=[document])\n",
    "            return document['id']\n",
    "        except Exception as e:\n",
    "            print(f'Error inserting document: {str(e)}')\n",
    "            return ''"
   ]
  },
  {
   "cell_type": "code",
   "execution_count": 4,
   "id": "ac63cfc2-bba9-4639-91e1-2c7fb68a904c",
   "metadata": {},
   "outputs": [],
   "source": [
    "acs = AzureCognitiveSearch()"
   ]
  },
  {
   "cell_type": "code",
   "execution_count": null,
   "id": "08938414-97d2-474a-83e7-4da742c691ac",
   "metadata": {},
   "outputs": [],
   "source": [
    "# search document from azure search document\n",
    "key = \"\"\n",
    "value = \"\"\n",
    "acs_search = acs.search_by_query(key, value)"
   ]
  },
  {
   "cell_type": "code",
   "execution_count": null,
   "id": "285e06e6-2918-45e9-ba61-ef5c29363b85",
   "metadata": {},
   "outputs": [],
   "source": [
    "# delete document from azure search document\n",
    "identifier = \"\"\n",
    "acs.delete_by_id(identifier)"
   ]
  },
  {
   "cell_type": "code",
   "execution_count": null,
   "id": "283853c6-3bd6-455d-aae2-737d7b6eaa8e",
   "metadata": {},
   "outputs": [],
   "source": [
    "# Upload the document to Azure Search document\n",
    "json_payload = {\n",
    "    \"key1\": \"value1\",\n",
    "    \"key2\": \"Value2\"\n",
    "}\n",
    "acs.insert_document(json.dumps(json_payload))"
   ]
  }
 ],
 "metadata": {
  "kernelspec": {
   "display_name": "Python 3 (ipykernel)",
   "language": "python",
   "name": "python3"
  },
  "language_info": {
   "codemirror_mode": {
    "name": "ipython",
    "version": 3
   },
   "file_extension": ".py",
   "mimetype": "text/x-python",
   "name": "python",
   "nbconvert_exporter": "python",
   "pygments_lexer": "ipython3",
   "version": "3.12.0"
  }
 },
 "nbformat": 4,
 "nbformat_minor": 5
}
